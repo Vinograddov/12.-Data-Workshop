{
 "cells": [
  {
   "cell_type": "markdown",
   "id": "e8a62aec-79e7-4d61-9e2a-609d377f6873",
   "metadata": {},
   "source": [
    "## Классификация музыкальных произведений для сервиса \"МиФаСоль\""
   ]
  },
  {
   "cell_type": "markdown",
   "id": "1a44798f-0dc3-4150-b5f9-03fa5f30871b",
   "metadata": {},
   "source": [
    "### Описание проекта"
   ]
  },
  {
   "cell_type": "markdown",
   "id": "388a97b9-4772-4aff-881a-241eb4308e6f",
   "metadata": {},
   "source": [
    "\"МиФаСоль\" - популярный музыкальный стримминговый сервис.\n",
    "\n",
    "Надо разработать модель, позволяющую классифицировать музыкальные произведения по жанрам, чтобы улучшить работу рекомендательной системы."
   ]
  },
  {
   "cell_type": "markdown",
   "id": "464fc99e-f81a-491d-929e-4e2e6429d6e4",
   "metadata": {},
   "source": [
    "### Описание данных"
   ]
  },
  {
   "cell_type": "markdown",
   "id": "22361f78-543c-4b03-ba34-95d3fc4c0b07",
   "metadata": {},
   "source": [
    "Данные:\n",
    "- `kaggle_music_genre_train.csv` - Информация (40000) музыкальных треках, которые будут использоваться в качестве обучающих данных.\n",
    "- `kaggle_music_genre_test.csv` - Информация (10000) музыкальных треках, которые будут использоваться в качестве тестовых данных.\n",
    "- `sample_submission.csv` - Файл предсказаний в правильном формате.\n",
    "- `instance_id` - Идентификатор трека в тестовом наборе.\n",
    "- `music_genre` - Целевой признак. Для каждого трека предскажим категориальное значение соответствующее музыкальному жанру трека."
   ]
  },
  {
   "cell_type": "markdown",
   "id": "a4714879-d76e-4c60-b085-26e27627da77",
   "metadata": {},
   "source": [
    "Описание полей данных:\n",
    "\n",
    "- `instance_id` - Уникальный идентификатор трека.\n",
    "- `track_name` - Название трека.\n",
    "- `popularity` - Популярность трека.\n",
    "- `acousticness` - Мера уверенности от **0,0** до **1,0** в том, что трек является акустическим.\n",
    "- `danceability` - Танцевальность это показатель от **0,0** до **1,0**, который описывает, насколько трек подходит для танцев, основываясь на сочетании музыкальных элементов, включая темп, стабильность ритма, силу ударов и общую регулярность.\n",
    "- `duration_ms` - Продолжительность трека в миллисекундах.\n",
    "- `energy` - Энергия это показатель от **0,0** до **1,0**, представляющий собой меру интенсивности и активности. Как правило, энергичные композиции ощущаются как быстрые, громкие и шумные.\n",
    "- `instrumentalness` - Определяет, содержит ли трек вокал. Звуки \"Ooh\" и \"aah\" в данном контексте рассматриваются как инструментальные. Рэп или разговорные треки явно являются \"вокальными\". Чем ближе значение инструментальности к **1,0**, тем больше вероятность того, что трек **не** содержит вокала.\n",
    "- `key` - Базовый ключ (нота) произведения.\n",
    "- `liveness` - Определяет присутствие аудитории в записи. Более высокие значения `liveness` означают увеличение вероятности того, что трек был исполнен вживую. Значение выше **0,8** обеспечивает высокую вероятность того, что трек исполняется вживую.\n",
    "- `loudness` - Общая громкость трека в децибелах (дБ).\n",
    "- `mode` - Указывает на модальность (мажорную или минорную) трека.\n",
    "- `speechiness` - Речевой характер определяет наличие в треке разговорной речи. Чем более исключительно речевой характер носит запись (например, ток-шоу, аудиокнига, поэзия), тем ближе значение атрибута к **1,0**. Значения выше **0,66** характеризуют треки, которые, вероятно, полностью состоят из разговорной речи. Значения от **0,33** до **0,66** характеризуют треки, которые могут содержать как музыку, так и речь, как в виде фрагментов, так и в виде слоев, включая такие случаи, как рэп-музыка. Значения ниже **0,33**, скорее всего, представляют музыку и другие неречевые треки.\n",
    "- `tempo` - Темп трека в ударах в минуту (BPM). В музыкальной терминологии темп представляет собой скорость или темп данного произведения и напрямую зависит от средней продолжительности тактов.\n",
    "- `obtained_date` - Дата загрузки в сервис.\n",
    "- `valence` - Показатель от **0,0** до **1,0**, характеризующий музыкальный позитив, передаваемый треком. Композиции с высокой валентностью звучат более позитивно (например, радостно, весело, эйфорично), а композиции с низкой валентностью - более негативно (например, грустно, депрессивно, сердито).\n",
    "- `music_genre` - Музыкальный жанр трека."
   ]
  },
  {
   "cell_type": "markdown",
   "id": "3580d2e8-fd3b-4ab7-b81e-2caa9a3b60e1",
   "metadata": {},
   "source": [
    "### Импорт библиотек"
   ]
  },
  {
   "cell_type": "code",
   "execution_count": null,
   "id": "7801926a-fa6a-4ff9-a2dd-c1bd81b1ede0",
   "metadata": {},
   "outputs": [],
   "source": [
    "from sklearn.model_selection import train_test_split, cross_val_score\n",
    "\n",
    "from sklearn.linear_model import LogisticRegression\n",
    "\n",
    "from sklearn.ensemble import RandomForestClassifier\n",
    "from sklearn.tree import DecisionTreeClassifier\n",
    "\n",
    "from ydata_profiling import ProfileReport\n",
    "\n",
    "import matplotlib.gridspec as gridspec\n",
    "import matplotlib.pyplot as plt\n",
    "import pandas as pd\n",
    "\n",
    "#import seaborn as sb\n",
    "\n",
    "from sklearn.compose import ColumnTransformer\n",
    "\n",
    "from sklearn.linear_model import Ridge\n",
    "from sklearn.preprocessing import StandardScaler, OneHotEncoder\n",
    "from sklearn.pipeline import Pipeline\n",
    "\n",
    "from sklearn.svm import SVC"
   ]
  },
  {
   "cell_type": "markdown",
   "id": "94907e59-a5e8-4ca5-b27a-17ce1534beea",
   "metadata": {},
   "source": [
    "### Загрузка и подготовка данных"
   ]
  },
  {
   "cell_type": "markdown",
   "id": "13259306-3190-4a63-9140-6b5878504aa8",
   "metadata": {},
   "source": [
    "**1.** Загрузим `sample_submission` в датафрейм `data_sample`."
   ]
  },
  {
   "cell_type": "code",
   "execution_count": null,
   "id": "e932478b-e835-4053-8df1-e71dfc047ba0",
   "metadata": {},
   "outputs": [],
   "source": [
    "data_sample = pd.read_csv('sample_submission.csv')\n",
    "data_sample.head(2)"
   ]
  },
  {
   "cell_type": "code",
   "execution_count": null,
   "id": "68ce3441-34ef-4379-b766-d1bbfc5a82fc",
   "metadata": {},
   "outputs": [],
   "source": [
    "data_sample.info()"
   ]
  },
  {
   "cell_type": "markdown",
   "id": "73cd2ade-c479-45a4-ac96-f964b257f6df",
   "metadata": {},
   "source": [
    "Список возможных жанров:"
   ]
  },
  {
   "cell_type": "code",
   "execution_count": null,
   "id": "6096e113-af08-4a7f-a22f-4a5dca5535c6",
   "metadata": {},
   "outputs": [],
   "source": [
    "genre_table = pd.DataFrame(data_sample['music_genre'].sort_values().unique(), columns=['genres'])\n",
    "genre_table.index += 1\n",
    "genre_table = genre_table.reset_index().rename(columns={'index':'genre_index'})\n",
    "genre_table"
   ]
  },
  {
   "cell_type": "markdown",
   "id": "ccbadbc7-9dd7-4eb9-9305-59f22fb8a3f8",
   "metadata": {},
   "source": [
    "**2.** Загрузим `kaggle_music_genre_test` в датафрейм `data_test`."
   ]
  },
  {
   "cell_type": "code",
   "execution_count": null,
   "id": "f10420b2-7ab9-4221-82db-1589427ceb81",
   "metadata": {},
   "outputs": [],
   "source": [
    "data_test = pd.read_csv('kaggle_music_genre_test.csv')\n",
    "data_test.head(2)"
   ]
  },
  {
   "cell_type": "code",
   "execution_count": null,
   "id": "77507906-9f2b-4867-9487-c9168bdb4666",
   "metadata": {},
   "outputs": [],
   "source": [
    "data_test.info()"
   ]
  },
  {
   "cell_type": "markdown",
   "id": "3ad7de01-a5be-4414-ad6a-e39e7681e9d2",
   "metadata": {},
   "source": [
    "**3.** Загрузим `kaggle_music_genre_train` в датафрейм `data`."
   ]
  },
  {
   "cell_type": "code",
   "execution_count": null,
   "id": "322294e5-a66e-4b90-bd0e-45c5d5a80630",
   "metadata": {
    "scrolled": true
   },
   "outputs": [],
   "source": [
    "data = pd.read_csv('kaggle_music_genre_train.csv')\n",
    "report = ProfileReport(data.reset_index(drop=True), progress_bar=False, correlations={\"auto\": {\"calculate\": False}})\n",
    "report.to_file(\"Data-Report.html\")\n",
    "report"
   ]
  },
  {
   "cell_type": "markdown",
   "id": "447a79d5-7b09-4204-a949-e4a76a321b28",
   "metadata": {},
   "source": [
    "Очевидная корреляция:"
   ]
  },
  {
   "cell_type": "code",
   "execution_count": null,
   "id": "0e99c132-2a66-4d6b-80f5-e007001cbf14",
   "metadata": {},
   "outputs": [],
   "source": [
    "print('Корреляция между колонками acousticness и energy -', round(data[['acousticness', 'energy']].corr().loc['energy', 'acousticness'], 3))"
   ]
  },
  {
   "cell_type": "code",
   "execution_count": null,
   "id": "11ae1644-caa8-4520-8684-35bf7a17e733",
   "metadata": {},
   "outputs": [],
   "source": [
    "ax = data['acousticness'].plot(kind='hist', bins=30, figsize=(15,7), legend=True, alpha=0.3, color='orange', edgecolor = 'black',\n",
    "                         title='Корреляция между acousticness и energy')\n",
    "data['energy'].plot(kind='hist', bins=30, ax=ax, alpha=0.6, color='white', edgecolor = 'black')\n",
    "plt.legend(['acousticness','energy'])\n",
    "plt.ylim(top=4000)\n",
    "plt.show()"
   ]
  },
  {
   "cell_type": "markdown",
   "id": "6f119927-6757-47cb-9100-e82647584976",
   "metadata": {},
   "source": [
    "**4.** Дубликаты:"
   ]
  },
  {
   "cell_type": "code",
   "execution_count": null,
   "id": "a4c6ac4a-d096-4909-9e82-550e36dd4f4b",
   "metadata": {},
   "outputs": [],
   "source": [
    "print('Дубликаты без id:')\n",
    "print('data -', data.drop('instance_id', axis=1).duplicated().sum())\n",
    "print('data_test -', data_test.drop('instance_id', axis=1).duplicated().sum())"
   ]
  },
  {
   "cell_type": "markdown",
   "id": "7e39afc2-821c-443d-bbda-0142397e1480",
   "metadata": {},
   "source": [
    "Удалять дубликаты из `data_test` не будем. Посмотрим как справится с ними модель."
   ]
  },
  {
   "cell_type": "markdown",
   "id": "b55c4572-874c-4a2d-84ae-b451d6c9cf06",
   "metadata": {},
   "source": [
    "#### **Вывод:**"
   ]
  },
  {
   "cell_type": "markdown",
   "id": "608c5965-8d3e-4464-b4ad-d3546393e5fe",
   "metadata": {},
   "source": [
    "<div class=\"alert alert-block alert-danger\">\n",
    "\n",
    "</div>"
   ]
  },
  {
   "cell_type": "markdown",
   "id": "fd40fc4d-da7b-4af5-b847-6ca54d831a82",
   "metadata": {},
   "source": [
    "### Обработка данных"
   ]
  },
  {
   "cell_type": "markdown",
   "id": "228e5a02-1c74-4929-afe5-b5560adeeef8",
   "metadata": {},
   "source": [
    "##### Изменим формат отображения чисел формата `float` "
   ]
  },
  {
   "cell_type": "code",
   "execution_count": null,
   "id": "9e271874-66fd-4fda-8837-dd74d7099ac5",
   "metadata": {},
   "outputs": [],
   "source": [
    "pd.options.display.float_format = '{:,.3f}'.format"
   ]
  },
  {
   "cell_type": "markdown",
   "id": "ac6e05b5-013e-458e-92e1-a89e016c0cf4",
   "metadata": {},
   "source": [
    "##### Функции:"
   ]
  },
  {
   "cell_type": "code",
   "execution_count": null,
   "id": "7f97fb23-cf19-4899-96a3-e078eef42de4",
   "metadata": {},
   "outputs": [],
   "source": [
    "#Функция отображения пропусков\n",
    "def miss (column):\n",
    "    print('Количество пропусков в столбце', column, '-', data[column].isna().sum(), '-', data[column].isna().sum()*100/len(data[column]), \\\n",
    "          '% из всего датафрейма')\n",
    "    return\n",
    "\n",
    "#Функция отображения графиков\n",
    "def graph (column):\n",
    "    fig = plt.figure(tight_layout=True)\n",
    "    gs = gridspec.GridSpec(2, 1)\n",
    "    ax = fig.add_subplot(gs[0, :])\n",
    "    data[column].plot(kind = 'box', figsize = (10, 7), title = 'Выбросы', ax=ax)\n",
    "    ax = fig.add_subplot(gs[1, :])\n",
    "    data[column].plot(kind='hist', bins=100, figsize=(10,7),  color='orange', edgecolor = 'black', title='Распределение')\n",
    "    plt.show()\n",
    "    return"
   ]
  },
  {
   "cell_type": "markdown",
   "id": "5c2695b5-a9e6-4982-82b7-5c4efb4e7076",
   "metadata": {},
   "source": [
    "##### Приведем данные к адекватным форматам и заполним пропуски."
   ]
  },
  {
   "cell_type": "markdown",
   "id": "08adf9f8-fc0e-4071-8500-9cc8957c1438",
   "metadata": {},
   "source": [
    "##### **1.**  `track_name`"
   ]
  },
  {
   "cell_type": "code",
   "execution_count": null,
   "id": "cce92ffc-ff7f-4b70-bbfe-bed7eb8cf55c",
   "metadata": {},
   "outputs": [],
   "source": [
    "miss('track_name')"
   ]
  },
  {
   "cell_type": "markdown",
   "id": "2b6281c8-fa01-4dd1-aacf-947718190d72",
   "metadata": {},
   "source": [
    "Судя по анализу, самым популярным словом в названии треков является - \"the\". В основном эти названия написаны на латинице. Иногда же встречаются иностранные композиции. Так же Были замечены выбросы по размеру строки: например есть песня с названием в 242 символа.\n",
    "\n",
    "Для модели эта колонка будет мало полезной. Не смотря на то, что все названия можно переводить в один язык и выискивать ключевые слова, по которым, не без помощи остальных параметров, можно было бы предсказывать жанр. Поэтому удалим сомнительный признак."
   ]
  },
  {
   "cell_type": "code",
   "execution_count": null,
   "id": "38eaff9e-86d2-4541-ad47-4bedb9a10af2",
   "metadata": {},
   "outputs": [],
   "source": [
    "print('Количество колонок ДО -', len(data.columns))\n",
    "data = data.drop('track_name', axis=1)\n",
    "data_test = data_test.drop('track_name', axis=1)\n",
    "print('Количество колонок ПОСЛЕ -', len(data.columns))"
   ]
  },
  {
   "cell_type": "markdown",
   "id": "39904af6-1ba5-42ff-bb23-410a51e68422",
   "metadata": {},
   "source": [
    "##### **2.** `popularity`"
   ]
  },
  {
   "cell_type": "code",
   "execution_count": null,
   "id": "a1a65914-edaa-45a3-9ad0-f7f69723ccb3",
   "metadata": {},
   "outputs": [],
   "source": [
    "miss('popularity')\n",
    "graph('popularity')\n",
    "data['popularity'].sort_values().unique()"
   ]
  },
  {
   "cell_type": "markdown",
   "id": "98ca5f93-7512-4d66-931f-fd176e039864",
   "metadata": {},
   "source": [
    "Выбросов много. Все таки какие-то треки вогут становиться хитами или наоборот. Это нормально."
   ]
  },
  {
   "cell_type": "markdown",
   "id": "5125f633-7d91-4cd5-87e2-db1bed3f40f1",
   "metadata": {},
   "source": [
    "Обработаем пропуски. Заменим пропуски на среднее."
   ]
  },
  {
   "cell_type": "code",
   "execution_count": null,
   "id": "0a784e7d-713f-433c-a253-ccebfb70479a",
   "metadata": {},
   "outputs": [],
   "source": [
    "data['popularity'] = data['popularity'].fillna(value=data['popularity'].mean())\n",
    "data_test['popularity'] = data_test['popularity'].fillna(value=data_test['popularity'].mean())\n",
    "miss('popularity')"
   ]
  },
  {
   "cell_type": "markdown",
   "id": "25e53e4b-9d6f-4219-8194-594c401c8643",
   "metadata": {},
   "source": [
    "##### **3.** `acousticness`"
   ]
  },
  {
   "cell_type": "code",
   "execution_count": null,
   "id": "3b2e8b0d-9065-4389-a9d7-c6c547ebaf3d",
   "metadata": {},
   "outputs": [],
   "source": [
    "miss('acousticness')\n",
    "graph('acousticness')\n",
    "data['acousticness'].describe()"
   ]
  },
  {
   "cell_type": "markdown",
   "id": "daf4ee98-a78c-4321-8c74-450abb64931a",
   "metadata": {},
   "source": [
    "Среднее и медиана сильно отличаются. В основном, уверенности, что трек является аккустическим нет."
   ]
  },
  {
   "cell_type": "markdown",
   "id": "c7015737-3a9b-4829-a2e4-436ef0b9d5ed",
   "metadata": {},
   "source": [
    "##### **4.** `danceability` "
   ]
  },
  {
   "cell_type": "code",
   "execution_count": null,
   "id": "59b353be-b05e-4675-bc95-5c72131acbee",
   "metadata": {},
   "outputs": [],
   "source": [
    "miss('danceability')\n",
    "graph('danceability')\n",
    "data['danceability'].describe()"
   ]
  },
  {
   "cell_type": "markdown",
   "id": "de2fe884-9a42-46a6-b06a-8d7be81c2f48",
   "metadata": {},
   "source": [
    "У этого параметра нормальноре распределение и относительно небольшое количество пропусков. Выбросы есть только на малых значениях."
   ]
  },
  {
   "cell_type": "markdown",
   "id": "de2ed288-191a-40e1-8114-4d15728fb346",
   "metadata": {},
   "source": [
    "Обработаем пропуски. Заменим пропуски на среднее."
   ]
  },
  {
   "cell_type": "code",
   "execution_count": null,
   "id": "2bf1a5b4-b128-4515-8b8c-77336d67a3da",
   "metadata": {},
   "outputs": [],
   "source": [
    "data['danceability'] = data['danceability'].fillna(value=data['danceability'].mean())\n",
    "data_test['danceability'] = data_test['danceability'].fillna(value=data_test['danceability'].mean())\n",
    "miss('danceability')"
   ]
  },
  {
   "cell_type": "markdown",
   "id": "5592c975-f843-4cd8-a3e2-a91ab345eaf5",
   "metadata": {},
   "source": [
    "##### **5.** `duration_ms`"
   ]
  },
  {
   "cell_type": "code",
   "execution_count": null,
   "id": "b5f11d7e-cb55-448d-9189-c76e7a620cd2",
   "metadata": {},
   "outputs": [],
   "source": [
    "miss('duration_ms')\n",
    "graph('duration_ms')\n",
    "data['duration_ms'].describe()"
   ]
  },
  {
   "cell_type": "markdown",
   "id": "7443bf48-dc13-4d1a-980d-6701e9b74897",
   "metadata": {},
   "source": [
    "Переведем время в минуты:"
   ]
  },
  {
   "cell_type": "code",
   "execution_count": null,
   "id": "7cfca649-952e-4342-8ccb-172dc08a45a6",
   "metadata": {},
   "outputs": [],
   "source": [
    "data['duration_ms'] = data['duration_ms'] / 100 / 60\n",
    "data = data.rename(columns={'duration_ms':'duration_minutes'}) \n",
    "data_test['duration_ms'] = data_test['duration_ms'] / 100 / 60\n",
    "data_test = data_test.rename(columns={'duration_ms':'duration_minutes'}) "
   ]
  },
  {
   "cell_type": "markdown",
   "id": "8ac917cc-1671-451e-a738-92685c64806a",
   "metadata": {},
   "source": [
    "Обработаем выбросы, где длительность трека переваливает за **30** минут. Скорее всего тут дело в лишних нулях."
   ]
  },
  {
   "cell_type": "code",
   "execution_count": null,
   "id": "95e242ed-2987-46cf-a4b2-fa897d4d2166",
   "metadata": {},
   "outputs": [],
   "source": [
    "data.loc[data['duration_minutes']>30, 'duration_minutes'] = data.loc[data['duration_minutes']>30, 'duration_minutes'] / 10\n",
    "data_test.loc[data_test['duration_minutes']>30, 'duration_minutes'] = data_test.loc[data['duration_minutes']>30, 'duration_minutes'] / 10\n",
    "data.loc[data['duration_minutes']>15, 'duration_minutes'] = data.loc[data['duration_minutes']>15, 'duration_minutes'] / 10\n",
    "data_test.loc[data_test['duration_minutes']>15, 'duration_minutes'] = data_test.loc[data['duration_minutes']>15, 'duration_minutes'] / 10"
   ]
  },
  {
   "cell_type": "markdown",
   "id": "9b684064-4bba-4fcd-bb36-c8b44a92af33",
   "metadata": {},
   "source": [
    "Заменим отрицательные значения и нули на среднее."
   ]
  },
  {
   "cell_type": "code",
   "execution_count": null,
   "id": "52bde311-6da8-49d5-88b1-9102ecb73e24",
   "metadata": {},
   "outputs": [],
   "source": [
    "data.loc[data['duration_minutes']<=0, 'duration_minutes'] = data.loc[data['duration_minutes']>0, 'duration_minutes'].mean()\n",
    "data_test.loc[data_test['duration_minutes']<=0, 'duration_minutes'] = data_test.loc[data_test['duration_minutes']>0, 'duration_minutes'].mean()"
   ]
  },
  {
   "cell_type": "code",
   "execution_count": null,
   "id": "f82c3466-0135-4e27-8871-2b2c8b037351",
   "metadata": {},
   "outputs": [],
   "source": [
    "miss('duration_minutes')\n",
    "graph('duration_minutes')\n",
    "data['duration_minutes'].describe()"
   ]
  },
  {
   "cell_type": "markdown",
   "id": "ddb1f652-afbe-44dc-8d2c-8784e2c1ea36",
   "metadata": {},
   "source": [
    "В среднем продолжительность одного трека около **4-х** минут."
   ]
  },
  {
   "cell_type": "markdown",
   "id": "712eb70e-1252-4829-b890-c7bb157dbb94",
   "metadata": {},
   "source": [
    "##### **6.** `energy` "
   ]
  },
  {
   "cell_type": "code",
   "execution_count": null,
   "id": "3b4024e2-216d-420e-95fc-236ae7c61315",
   "metadata": {},
   "outputs": [],
   "source": [
    "miss('energy')\n",
    "graph('energy')\n",
    "data['energy'].describe()"
   ]
  },
  {
   "cell_type": "markdown",
   "id": "fdb26578-17e3-410b-a0fe-2794706476c1",
   "metadata": {},
   "source": [
    "Тут все в порядке."
   ]
  },
  {
   "cell_type": "markdown",
   "id": "018f2071-ac16-4093-90cf-c9e36488a391",
   "metadata": {},
   "source": [
    "##### **7.** `instrumentalness`"
   ]
  },
  {
   "cell_type": "code",
   "execution_count": null,
   "id": "a6988123-1fbf-41d1-9a09-ec4219349518",
   "metadata": {},
   "outputs": [],
   "source": [
    "miss('instrumentalness')\n",
    "graph('instrumentalness')\n",
    "data['instrumentalness'].describe()"
   ]
  },
  {
   "cell_type": "markdown",
   "id": "b2923f4b-9cbb-4cca-b65e-a5d634048acf",
   "metadata": {},
   "source": [
    "Тут все в порядке. Треков не содержащих вокал (ближе к значению **1.0**) намного меньше, что логично."
   ]
  },
  {
   "cell_type": "markdown",
   "id": "ca21aff6-172f-455d-a9bc-f516a75f68cc",
   "metadata": {},
   "source": [
    "##### **8.** `key`"
   ]
  },
  {
   "cell_type": "code",
   "execution_count": null,
   "id": "3bd3f07b-4e53-4e08-bdbe-4b1dc7c530d0",
   "metadata": {},
   "outputs": [],
   "source": [
    "miss('key')\n",
    "data.groupby('key').count()['instance_id'].sort_values(ascending=False).plot(kind='bar', color='orange', edgecolor='black', figsize=(10,6))\n",
    "plt.show()"
   ]
  },
  {
   "cell_type": "markdown",
   "id": "5e5876c6-46f5-4934-b9c2-5ba091d8b0dd",
   "metadata": {},
   "source": [
    "Здесь особо нечем заменить пропуски. Поэтому сделаем так:"
   ]
  },
  {
   "cell_type": "code",
   "execution_count": null,
   "id": "a841690c-e999-48d9-9173-3bdf8fa5f9cf",
   "metadata": {},
   "outputs": [],
   "source": [
    "data.loc[data['key'].isna(), 'key'] = data.loc[data['key'].isna(), 'key'].fillna(value='unknown')\n",
    "data_test.loc[data_test['key'].isna(), 'key'] = data_test.loc[data_test['key'].isna(), 'key'].fillna(value='unknown')"
   ]
  },
  {
   "cell_type": "markdown",
   "id": "16ef22a0-3c3b-40b9-bbaa-3006cb17479a",
   "metadata": {},
   "source": [
    "##### **9.** `liveness`"
   ]
  },
  {
   "cell_type": "code",
   "execution_count": null,
   "id": "5fa28f51-0ad6-4f85-85e9-841f4e845568",
   "metadata": {},
   "outputs": [],
   "source": [
    "miss('liveness')\n",
    "graph('liveness')"
   ]
  },
  {
   "cell_type": "markdown",
   "id": "a847496e-aeee-4335-959b-b01a3079b110",
   "metadata": {},
   "source": [
    "Сделаем из этого признака - котегориальный. Более высокие значения `liveness` означают увеличение вероятности того, что трек был исполнен вживую. Значение выше **0,8** обеспечивает высокую вероятность того, что трек исполняется вживую."
   ]
  },
  {
   "cell_type": "code",
   "execution_count": null,
   "id": "c244debe-4c9e-4f9c-8911-2e2ce3d913b7",
   "metadata": {},
   "outputs": [],
   "source": [
    "data.loc[data['liveness'] > 0.8, 'liveness'] = 1\n",
    "data.loc[data['liveness'] <= 0.8, 'liveness'] = 0\n",
    "data_test.loc[data['liveness'] > 0.8, 'liveness'] = 1\n",
    "data_test.loc[data['liveness'] <= 0.8, 'liveness'] = 0"
   ]
  },
  {
   "cell_type": "markdown",
   "id": "422353c3-b080-419e-bf61-d017f20bf036",
   "metadata": {},
   "source": [
    "##### **10.** `loudness`"
   ]
  },
  {
   "cell_type": "code",
   "execution_count": null,
   "id": "fc254810-c844-4e7c-ae18-e6f24b008cfc",
   "metadata": {},
   "outputs": [],
   "source": [
    "miss('loudness')\n",
    "graph('loudness')\n",
    "data['loudness'].describe()"
   ]
  },
  {
   "cell_type": "markdown",
   "id": "7a522a55-0c2a-416d-b795-3021a43504b6",
   "metadata": {},
   "source": [
    "Эта колонка показывает общую громкость в децибелах (дБ). Сделаем эти значения положительными."
   ]
  },
  {
   "cell_type": "code",
   "execution_count": null,
   "id": "f9ffa9fb-2a24-4d60-9657-eed983eee1ea",
   "metadata": {},
   "outputs": [],
   "source": [
    "data['loudness'] = data['loudness']*(-1)"
   ]
  },
  {
   "cell_type": "markdown",
   "id": "745a8c3c-eed9-4c96-a9d4-229ca883e29c",
   "metadata": {},
   "source": [
    "##### **11.** `mode`"
   ]
  },
  {
   "cell_type": "code",
   "execution_count": null,
   "id": "2c8e09b1-b613-40cf-9fb5-4f0923c75c29",
   "metadata": {},
   "outputs": [],
   "source": [
    "miss('mode')\n",
    "data.groupby('mode').count()['instance_id'].sort_values(ascending=False).plot(kind='bar', color='orange', edgecolor='black', figsize=(10,6))\n",
    "plt.show()"
   ]
  },
  {
   "cell_type": "markdown",
   "id": "d56e2a86-d2c7-4300-89c6-214aa32b13bf",
   "metadata": {},
   "source": [
    "Здесь особо нечем заменить пропуски. Поэтому сделаем так:"
   ]
  },
  {
   "cell_type": "code",
   "execution_count": null,
   "id": "abbe8374-fcb5-4776-914b-b07d26a6b12c",
   "metadata": {},
   "outputs": [],
   "source": [
    "data.loc[data['mode'].isna(), 'mode'] = data.loc[data['mode'].isna(), 'mode'].fillna(value='unknown')\n",
    "data_test.loc[data_test['mode'].isna(), 'mode'] = data_test.loc[data_test['mode'].isna(), 'mode'].fillna(value='unknown')"
   ]
  },
  {
   "cell_type": "markdown",
   "id": "a58af4cd-5fbc-4959-8310-65331360d7ca",
   "metadata": {},
   "source": [
    "##### **12.** `speechiness`"
   ]
  },
  {
   "cell_type": "code",
   "execution_count": null,
   "id": "aecc2acb-cc75-45a4-8945-4666d3ee1aa9",
   "metadata": {},
   "outputs": [],
   "source": [
    "miss('speechiness')\n",
    "graph('speechiness')\n",
    "data['speechiness'].describe()"
   ]
  },
  {
   "cell_type": "markdown",
   "id": "5422648f-917c-40f7-9cc6-41c0f1da0972",
   "metadata": {},
   "source": [
    "Сначала приведем значения в один тинтервал (от **0** до **1**). Вычтим единицу."
   ]
  },
  {
   "cell_type": "code",
   "execution_count": null,
   "id": "ae023180-a9bb-4bf0-be86-f72ae0ea474e",
   "metadata": {},
   "outputs": [],
   "source": [
    "data.loc[data['speechiness']>1.0, 'speechiness'] -= 1\n",
    "data_test.loc[data_test['speechiness']>1.0, 'speechiness'] -= 1"
   ]
  },
  {
   "cell_type": "markdown",
   "id": "761978ff-ca17-4371-9266-495386323ba7",
   "metadata": {},
   "source": [
    "`speechiness` - Речевой характер определяет наличие в треке разговорной речи. Чем более исключительно речевой характер носит запись (например, ток-шоу, аудиокнига, поэзия), тем ближе значение атрибута к **1,0**. \n",
    "\n",
    "- Значения выше **0,66** характеризуют треки, которые, вероятно, полностью состоят из разговорной речи. \n",
    "- Значения от **0,33** до **0,66** характеризуют треки, которые могут содержать как музыку, так и речь, как в виде фрагментов, так и в виде слоев, включая такие случаи, как рэп-музыка. \n",
    "- Значения ниже **0,33**, скорее всего, представляют музыку и другие неречевые треки."
   ]
  },
  {
   "cell_type": "code",
   "execution_count": null,
   "id": "4aae8b70-5a6b-4151-8413-4bc6c1df47e9",
   "metadata": {},
   "outputs": [],
   "source": [
    "def categorize_speechiness(speechiness):\n",
    "    try:\n",
    "        if 0.0 <= speechiness < 0.33:\n",
    "            return 'no_speech_music'\n",
    "        elif 0.33 <= speechiness <= 0.66:\n",
    "            return 'speech_music'\n",
    "        elif speechiness > 0.66:\n",
    "            return 'only_speech_music'\n",
    "    except:\n",
    "        pass"
   ]
  },
  {
   "cell_type": "code",
   "execution_count": null,
   "id": "767066ce-9c25-4ee5-a79c-8b3b61ac94ca",
   "metadata": {},
   "outputs": [],
   "source": [
    "data['speechiness'] = data['speechiness'].apply(categorize_speechiness)\n",
    "data_test['speechiness'] = data_test['speechiness'].apply(categorize_speechiness)"
   ]
  },
  {
   "cell_type": "markdown",
   "id": "63a4113a-7b27-47a6-b772-97ba0601420e",
   "metadata": {},
   "source": [
    "##### **13.** `tempo`"
   ]
  },
  {
   "cell_type": "code",
   "execution_count": null,
   "id": "8744584a-b732-4cdc-9101-98a9d9c6c12b",
   "metadata": {},
   "outputs": [],
   "source": [
    "miss('tempo')"
   ]
  },
  {
   "cell_type": "markdown",
   "id": "1440acf3-f87f-4fcf-a6a9-05785d555bf3",
   "metadata": {},
   "source": [
    "##### Изменим тип данных в колонке `tempo`"
   ]
  },
  {
   "cell_type": "code",
   "execution_count": null,
   "id": "a14d5822-0821-416c-bd52-7dbe2c4cd545",
   "metadata": {},
   "outputs": [],
   "source": [
    "data['tempo'] = data['tempo'].str.strip('? ')\n",
    "data.loc[data.loc[:, 'tempo'] == '', 'tempo'] = '-1.0'\n",
    "data_test['tempo'] = data_test['tempo'].str.strip('? ')\n",
    "data_test.loc[data_test.loc[:, 'tempo'] == '', 'tempo'] = '-1.0'"
   ]
  },
  {
   "cell_type": "code",
   "execution_count": null,
   "id": "e3cddc50-19ec-47a8-81e4-7840cf053f8d",
   "metadata": {},
   "outputs": [],
   "source": [
    "data['tempo'] = round(data['tempo'].astype('float'))\n",
    "data_test['tempo'] = round(data_test['tempo'].astype('float'))"
   ]
  },
  {
   "cell_type": "code",
   "execution_count": null,
   "id": "304dcab6-c8c9-4ec9-917c-3c2ccbe561f2",
   "metadata": {},
   "outputs": [],
   "source": [
    "graph('tempo')\n",
    "data['tempo'].describe()"
   ]
  },
  {
   "cell_type": "code",
   "execution_count": null,
   "id": "a3919af0-cb00-49fc-8535-0b808d369445",
   "metadata": {},
   "outputs": [],
   "source": [
    "#Заменим отрицательные и нулевые значения на среднее\n",
    "data.loc[data['tempo']<=0, 'tempo'] = data.loc[data['tempo']>0, 'tempo'].median()\n",
    "data_test.loc[data_test['tempo']<=0, 'tempo'] = data_test.loc[data_test['tempo']>0, 'tempo'].median()\n",
    "\n",
    "#Заполним пропуски\n",
    "data.loc[data['tempo'].isna(), 'tempo'] = data.loc[data['tempo']>0, 'tempo'].median()\n",
    "data_test.loc[data_test['tempo'].isna(), 'tempo'] = data_test.loc[data_test['tempo']>0, 'tempo'].median()"
   ]
  },
  {
   "cell_type": "markdown",
   "id": "be9a58aa-399d-4bc7-82b0-e87c46c04fb8",
   "metadata": {},
   "source": [
    "В основном самый популярный темп около **120** ударов в минуту.\n",
    "\n",
    "Медленные темпы \n",
    "\n",
    "    - Largo - 45 \n",
    "    - Lento - 52 \n",
    "    - Adagio - 60 \n",
    "    - Grave - 40 \n",
    "\n",
    "Умеренные темпы \n",
    "\n",
    "    - Andante - 65 \n",
    "    - Andantino - 70 \n",
    "    - Sostenuto - 75 \n",
    "    - Moderato - 80 \n",
    "    - Allegretto - 100 \n",
    "    \n",
    "Быстрые темпы \n",
    "\n",
    "    - Allegro - 132 \n",
    "    - Vivo - 140 \n",
    "    - Vivace - 160 \n",
    "    - Presto - 180 \n",
    "    - Prestissimo - 208"
   ]
  },
  {
   "cell_type": "markdown",
   "id": "73898982-6946-413a-906b-69dd9f07d17c",
   "metadata": {},
   "source": [
    "##### **14.** `obtained_date`"
   ]
  },
  {
   "cell_type": "code",
   "execution_count": null,
   "id": "86295381-8bb9-46cd-a9ee-43931925af1c",
   "metadata": {},
   "outputs": [],
   "source": [
    "miss('obtained_date')\n",
    "data.groupby('obtained_date').count()['instance_id'].sort_values(ascending=False).plot(kind='bar', color='orange', edgecolor='black', figsize=(10,6))\n",
    "plt.show()"
   ]
  },
  {
   "cell_type": "markdown",
   "id": "25a7a898-8ed3-4947-9cc6-d3348f2d6abf",
   "metadata": {},
   "source": [
    "Для модели машинного обучения, дата загрузки трека в сервис абсолютна не показательна. Эту колонку можно удалить."
   ]
  },
  {
   "cell_type": "code",
   "execution_count": null,
   "id": "5459562d-cda2-4700-955d-c38446e6dfd0",
   "metadata": {},
   "outputs": [],
   "source": [
    "print('Количество колонок ДО -', len(data.columns))\n",
    "data = data.drop('obtained_date', axis=1)\n",
    "data_test = data_test.drop('obtained_date', axis=1)\n",
    "print('Количество колонок ПОСЛЕ -', len(data.columns))"
   ]
  },
  {
   "cell_type": "markdown",
   "id": "82a2144c-c1a3-4acf-b5a4-233d9eeffd71",
   "metadata": {},
   "source": [
    "##### **15.** `valence`"
   ]
  },
  {
   "cell_type": "code",
   "execution_count": null,
   "id": "d7576378-6e0a-42f0-802f-0f9f75c783cc",
   "metadata": {},
   "outputs": [],
   "source": [
    "miss('valence')\n",
    "graph('valence')\n",
    "data['valence'].describe()"
   ]
  },
  {
   "cell_type": "markdown",
   "id": "7db42930-dd3e-4237-976f-e823460228c7",
   "metadata": {},
   "source": [
    "Тут все в порядке."
   ]
  },
  {
   "cell_type": "markdown",
   "id": "692c9a17-419d-4aa8-93ea-0a321295b7af",
   "metadata": {},
   "source": [
    "##### **16.** `music_genre`"
   ]
  },
  {
   "cell_type": "code",
   "execution_count": null,
   "id": "c30e3b78-f0d1-4b7a-8d0c-abf41ced7b92",
   "metadata": {},
   "outputs": [],
   "source": [
    "miss('music_genre')\n",
    "data.groupby('music_genre').count()['instance_id'].sort_values(ascending=False).plot(kind='bar', color='orange', edgecolor='black', figsize=(10,6))\n",
    "plt.show()"
   ]
  },
  {
   "cell_type": "code",
   "execution_count": null,
   "id": "6900f48e-d686-4c3e-a4f6-4c83c03b2bd1",
   "metadata": {},
   "outputs": [],
   "source": [
    "table = data.drop(['key', 'mode', 'speechiness', 'instance_id'], axis=1).groupby('music_genre').mean()\n",
    "\n",
    "table"
   ]
  },
  {
   "cell_type": "markdown",
   "id": "7363e593-f1e0-4fef-b1e9-0405dac7cc6c",
   "metadata": {},
   "source": [
    "- Самые популярные жанры: `Rap`, `Rock`, `Hip-Hop`\n",
    "- Жанр, который больше всего подходит для танца - `Hip-Hop`\n",
    "- Самые энергичные жанры: `Electronic`, `Alternative`. \n",
    "- На удивление `Rap` является самым неречевым жанром\n",
    "- Записей живых выступлений бульше всего у музыкантов жанра `Blues`\n",
    "- `Classical` музыка по праву является самой громкой, грустной, аккустической, длинной, и не энергичной из всех. У этого жанра к тому же самый низкий темп композиций.\n",
    "- Самые \"веселые\" жанры: `Blues`, `Country`"
   ]
  },
  {
   "cell_type": "markdown",
   "id": "13dfe965-224e-4fae-b07d-e0505c723db6",
   "metadata": {},
   "source": [
    "Заменим на цифры"
   ]
  },
  {
   "cell_type": "code",
   "execution_count": null,
   "id": "f579aa56-0f7a-4ce0-9f04-28b192439203",
   "metadata": {},
   "outputs": [],
   "source": [
    "data = data.join(genre_table.set_index('genres'), on='music_genre', validate='m:m').drop('music_genre', axis=1)\n",
    "data.head(2)"
   ]
  },
  {
   "cell_type": "markdown",
   "id": "c4ffd890-8594-4225-b120-5afa013b4925",
   "metadata": {},
   "source": [
    "#### **Вывод:**"
   ]
  },
  {
   "cell_type": "markdown",
   "id": "e1ffa7ac-5ee9-4f7a-9036-bcbaa9498060",
   "metadata": {},
   "source": [
    "<div class=\"alert alert-block alert-danger\">\n",
    "\n",
    "</div>"
   ]
  },
  {
   "cell_type": "markdown",
   "id": "c085cc8e-1024-4a1e-a58e-1769f0e3a40f",
   "metadata": {},
   "source": [
    "#### Разработка модели машинного обучения"
   ]
  },
  {
   "cell_type": "code",
   "execution_count": null,
   "id": "7a88d8e8-5a13-4d14-9118-4195b6536237",
   "metadata": {},
   "outputs": [],
   "source": [
    "features = data.drop(['genre_index', 'instance_id'], axis=1)\n",
    "target = data['genre_index']"
   ]
  },
  {
   "cell_type": "code",
   "execution_count": null,
   "id": "d3131b40-ed55-47b9-958b-052f2a48bdb6",
   "metadata": {},
   "outputs": [],
   "source": [
    "final_table = pd.DataFrame(data_test['instance_id'])\n",
    "final_table.head(2)"
   ]
  },
  {
   "cell_type": "markdown",
   "id": "8489940d-eddd-4181-9003-96178bf35234",
   "metadata": {},
   "source": [
    "Кодирование строковых столбцов"
   ]
  },
  {
   "cell_type": "code",
   "execution_count": null,
   "id": "9fb9781f-b903-45f4-a9e7-19fe289bea55",
   "metadata": {},
   "outputs": [],
   "source": [
    "encoder_ohe = OneHotEncoder(drop='first', handle_unknown='ignore', sparse=False)\n",
    "\n",
    "data_ohe = features.copy()\n",
    "data_ohe_test = data_test.drop('instance_id', axis=1)\n",
    "\n",
    "encoder_ohe.fit(data_ohe.select_dtypes('object'))\n",
    "\n",
    "data_ohe[encoder_ohe.get_feature_names_out()] = encoder_ohe.transform(data_ohe.select_dtypes('object'))\n",
    "data_ohe_test[encoder_ohe.get_feature_names_out()] = encoder_ohe.transform(data_ohe_test.select_dtypes('object'))\n",
    "\n",
    "data_ohe = data_ohe.drop(data_ohe.select_dtypes('object').columns, axis=1)\n",
    "data_ohe_test = data_ohe_test.drop(data_ohe_test.select_dtypes('object').columns, axis=1)\n",
    "\n",
    "data_ohe.head(2)"
   ]
  },
  {
   "cell_type": "markdown",
   "id": "2487511c-c7a2-4d32-b081-359f486fafe7",
   "metadata": {},
   "source": [
    "Масштабирование данных"
   ]
  },
  {
   "cell_type": "code",
   "execution_count": null,
   "id": "cc804dca-a350-4863-ab37-66f085c135df",
   "metadata": {},
   "outputs": [],
   "source": [
    "data_ohe_scale = data_ohe.copy()\n",
    "data_ohe_scale_test = data_ohe_test.copy()\n",
    "\n",
    "scaler = StandardScaler()\n",
    "\n",
    "scaler.fit(data_ohe_scale)\n",
    "\n",
    "data_ohe_scale[:] = scaler.transform(data_ohe_scale)\n",
    "data_ohe_scale_test[:] = scaler.transform(data_ohe_scale_test)\n",
    "\n",
    "data_ohe_scale.head(2)"
   ]
  },
  {
   "cell_type": "markdown",
   "id": "2033db8a-e32e-4503-b2bb-d7932e932ffe",
   "metadata": {},
   "source": [
    "Обозначим целевой признак как `target`, а остальные данные как `features`."
   ]
  },
  {
   "cell_type": "code",
   "execution_count": null,
   "id": "442871c2-9840-4171-acd8-2c661766607d",
   "metadata": {},
   "outputs": [],
   "source": [
    "features = data_ohe"
   ]
  },
  {
   "cell_type": "markdown",
   "id": "0b6778e6-ce18-489b-aae4-fbbfacd90905",
   "metadata": {},
   "source": [
    "Разделим данные на обучающую `train` и валидационную `valid` (**25%** от общего числа данных) выборки."
   ]
  },
  {
   "cell_type": "code",
   "execution_count": null,
   "id": "f7b8d923-21e1-4f8b-97c6-38c68f35535d",
   "metadata": {},
   "outputs": [],
   "source": [
    "features_train, features_valid, target_train, target_valid = train_test_split(features, target, test_size=0.25, random_state=12)\n",
    "print('Длинна обучающей выборки -', len(target_train))\n",
    "print('Длинна валидационной выборки -', len(target_valid))"
   ]
  },
  {
   "cell_type": "code",
   "execution_count": null,
   "id": "6c1598d9-ece1-4abe-8313-396d712da6c7",
   "metadata": {},
   "outputs": [],
   "source": []
  },
  {
   "cell_type": "code",
   "execution_count": null,
   "id": "1d86a2bc-89fe-4c5b-bf65-5c4e8590fe4a",
   "metadata": {},
   "outputs": [],
   "source": [
    "from sklearn.linear_model import LogisticRegression, LogisticRegressionCV, RidgeClassifier, RidgeClassifierCV\n",
    "from sklearn.discriminant_analysis import LinearDiscriminantAnalysis, QuadraticDiscriminantAnalysis\n",
    "from sklearn.neighbors import KNeighborsClassifier, NearestCentroid, RadiusNeighborsClassifier\n",
    "from sklearn.ensemble import ExtraTreesClassifier, RandomForestClassifier\n",
    "from sklearn.tree import DecisionTreeClassifier, ExtraTreeClassifier\n",
    "from sklearn.semi_supervised import LabelPropagation, LabelSpreading\n",
    "from sklearn.naive_bayes import BernoulliNB, GaussianNB\n",
    "from sklearn.neural_network import MLPClassifier\n",
    "from sklearn.svm import SVC, LinearSVC\n",
    "\n",
    "from sklearn.model_selection import GridSearchCV\n",
    "from sklearn.metrics import accuracy_score, roc_auc_score\n",
    "\n",
    "from sklearn.model_selection import RandomizedSearchCV\n",
    "from scipy.stats import randint"
   ]
  },
  {
   "cell_type": "code",
   "execution_count": null,
   "id": "93e129d9-cc5d-4313-b6c7-d059816678cb",
   "metadata": {
    "editable": true,
    "slideshow": {
     "slide_type": ""
    },
    "tags": []
   },
   "outputs": [],
   "source": [
    "LogisticRegressionCV_multinomial = LogisticRegressionCV(multi_class='multinomial')\n",
    "LogisticRegression_multinomial = LogisticRegression(multi_class='multinomial')\n",
    "LinearSVC_crammer_singer = LinearSVC(multi_class='crammer_singer')\n",
    "QuadraticDiscriminantAnalysis = QuadraticDiscriminantAnalysis()\n",
    "LogisticRegression_ovr = LogisticRegression(multi_class='ovr')\n",
    "LinearDiscriminantAnalysis = LinearDiscriminantAnalysis()\n",
    "RadiusNeighborsClassifier = RadiusNeighborsClassifier()\n",
    "RandomForestClassifier = RandomForestClassifier(random_state=12)\n",
    "DecisionTreeClassifier = DecisionTreeClassifier(random_state=12)\n",
    "KNeighborsClassifier = KNeighborsClassifier()\n",
    "ExtraTreesClassifier = ExtraTreesClassifier()\n",
    "ExtraTreeClassifier = ExtraTreeClassifier()\n",
    "RidgeClassifierCV = RidgeClassifierCV()\n",
    "LabelPropagation = LabelPropagation()\n",
    "NearestCentroid = NearestCentroid()\n",
    "RidgeClassifier = RidgeClassifier()\n",
    "LabelSpreading = LabelSpreading()\n",
    "MLPClassifier = MLPClassifier()\n",
    "BernoulliNB = BernoulliNB()\n",
    "GaussianNB = GaussianNB()\n",
    "SVC = SVC(probability=True, random_state=12)\n",
    "\n",
    "estimators = [scaler, RandomForestClassifier]\n",
    "models = [RandomForestClassifier, DecisionTreeClassifier, ExtraTreesClassifier, ExtraTreeClassifier, SVC,\n",
    "         RidgeClassifier, RidgeClassifierCV, GaussianNB, BernoulliNB, MLPClassifier]\n",
    "\n",
    "for model in models:\n",
    "    estimators.append((f'{model}', model))\n",
    "\n",
    "pipe = Pipeline(estimators)"
   ]
  },
  {
   "cell_type": "code",
   "execution_count": null,
   "id": "8884784f-466e-4e33-8eeb-265c2e663687",
   "metadata": {},
   "outputs": [],
   "source": [
    "scale = StandardScaler()\n",
    "scaler.fit(features_train)\n",
    "estimators = [scale, RandomForestClassifier]\n",
    "for estimator in estimators:\n",
    "    estimators.append((f'{estimator}', estimator))\n",
    "pipe = Pipeline(estimators)\n",
    "pipe"
   ]
  },
  {
   "cell_type": "code",
   "execution_count": null,
   "id": "45ccfcac-d718-4038-9a28-84349e751ec2",
   "metadata": {},
   "outputs": [],
   "source": [
    "#features_train[:] = scaler.transform(features_train)\n",
    "#features_valid[:] = scaler.transform(features_valid)"
   ]
  },
  {
   "cell_type": "code",
   "execution_count": null,
   "id": "11a2244c-3f2e-451d-936c-3c46a65160f4",
   "metadata": {
    "editable": true,
    "slideshow": {
     "slide_type": ""
    },
    "tags": []
   },
   "outputs": [],
   "source": [
    "#scores = []\n",
    "\n",
    "print('Значения точности и метрик для каждой модели:\\n')\n",
    "for model in models:\n",
    "    \n",
    "    predicted_valid = model.fit(features_train, target_train).predict(features_valid)\n",
    "    probabilities_valid = model.predict_proba(features_valid)\n",
    "    #probabilities_valid = probabilities_valid[:, 1]\n",
    "    \n",
    "    print(model,  '\\nВалидационная выборка:', round(model.score(features_valid, target_valid)*100, 3), \n",
    "                  '% \\tОбучающая выборка:', round(model.score(features_train, target_train)*100, 3),\n",
    "                  '% \\tAUC-ROC:', round(roc_auc_score(target_valid, probabilities_valid, multi_class='ovr')*100, 3),'%\\n')"
   ]
  },
  {
   "cell_type": "code",
   "execution_count": null,
   "id": "761dc31a-a883-4e3e-bdeb-61602d6ac451",
   "metadata": {},
   "outputs": [],
   "source": [
    "#param_grid = dict(reduce_dim__n_components=[2, 5, 10], clf__C=[0.1, 10, 100])\n",
    "#grid_search = GridSearchCV(pipe, param_grid=param_grid)\n",
    "\n",
    "#grid_search.fit(features_train, target_train)"
   ]
  },
  {
   "cell_type": "code",
   "execution_count": null,
   "id": "8434d42e-0ec1-4d75-b44f-10a81a258121",
   "metadata": {},
   "outputs": [],
   "source": [
    "#scaler = StandardScaler()\n",
    "#svc = SVC()\n",
    "\n",
    "#pipe = Pipeline([('scaler',scaler), ('svc', svc)])\n",
    "#pipe.fit(features_train, target_train).score(features_valid, target_valid)\n",
    "#pipe.set_params(svc__C=10).fit(features_train, target_train).score(features_valid, target_valid)\n",
    "#res_num = pipe.fit_transform(features.drop(['key', 'mode', 'speechiness'], axis=1))\n",
    "#pipe.fit(features_train, target_train).score(features_valid, target_valid)"
   ]
  },
  {
   "cell_type": "code",
   "execution_count": null,
   "id": "41014be1-71cd-41d9-b30d-3a010b082e02",
   "metadata": {},
   "outputs": [],
   "source": [
    "#res_num = pipe.fit_transform(features_train)\n",
    "#res_df_num = pd.DataFrame(res_num, columns=pipe['scaler'].get_feature_names_out(features).columns)\n",
    "#res_df_num.head(2)"
   ]
  },
  {
   "cell_type": "code",
   "execution_count": null,
   "id": "76463540-594c-45d9-b6d3-5683e1e96dda",
   "metadata": {},
   "outputs": [],
   "source": [
    "#final_pipe.fit(features, target)\n",
    "#preds = final_pipe.predict(features_test)\n",
    "#mean_squared_error(target_test, preds, squared=False)"
   ]
  },
  {
   "cell_type": "code",
   "execution_count": null,
   "id": "0c110c17-69f8-421e-8686-c0647118fa8f",
   "metadata": {},
   "outputs": [],
   "source": []
  },
  {
   "cell_type": "code",
   "execution_count": null,
   "id": "a47fb8b5-3103-42e8-af62-c3559af2c686",
   "metadata": {},
   "outputs": [],
   "source": []
  },
  {
   "cell_type": "code",
   "execution_count": null,
   "id": "1e4f11bc-e705-4644-b73f-c383b2da4562",
   "metadata": {},
   "outputs": [],
   "source": []
  },
  {
   "cell_type": "markdown",
   "id": "2c3119f0-ef70-449e-80d7-45118bcaed74",
   "metadata": {},
   "source": [
    "Также можно использовать автоматизированные методы подбора гиперпараметров. Из методов, реализованных в sklearn, часто используются GridSearchCV и RandomizedSearchCV. GridSearch перебирает все возможные комбинации гиперпараметров, указанных в параметре param_grid: по сути, это удобная альтернатива подбору в циклах. А RandomizedSearch использует случайные комбинации, исходя из распределений параметров в param_distributions. Это позволяет сократить время обучения, причем часто не сильно теряя в качестве.\n",
    "\n",
    "Для обоих методов можно задать параметр n_jobs=-1, который позволит использовать все возможные потоки и подбирать параметры параллельно(правда, это еще зависит от конфигурации машины, на которой ты считаешь), это тоже может помочь ускорить время обучения\n",
    "\n",
    "На практике еще часто используютсяoptuna или hyperopt, они оптимизированы под большие диапазоны подбора"
   ]
  },
  {
   "cell_type": "code",
   "execution_count": null,
   "id": "4fd6ed5b-b004-4994-9828-6db7eb2f392b",
   "metadata": {},
   "outputs": [],
   "source": []
  },
  {
   "cell_type": "code",
   "execution_count": null,
   "id": "d7ea052f-6811-4bd0-9592-b34168586dbb",
   "metadata": {},
   "outputs": [],
   "source": []
  },
  {
   "cell_type": "code",
   "execution_count": null,
   "id": "b47942dd-e8b7-43c5-ac04-8cdc75e44b1e",
   "metadata": {},
   "outputs": [],
   "source": []
  },
  {
   "cell_type": "code",
   "execution_count": null,
   "id": "4c52bed7-95e7-4200-aab9-2b40d3f648f6",
   "metadata": {
    "editable": true,
    "slideshow": {
     "slide_type": ""
    },
    "tags": []
   },
   "outputs": [],
   "source": []
  }
 ],
 "metadata": {
  "kernelspec": {
   "display_name": "Python 3 (ipykernel)",
   "language": "python",
   "name": "python3"
  },
  "language_info": {
   "codemirror_mode": {
    "name": "ipython",
    "version": 3
   },
   "file_extension": ".py",
   "mimetype": "text/x-python",
   "name": "python",
   "nbconvert_exporter": "python",
   "pygments_lexer": "ipython3",
   "version": "3.9.5"
  }
 },
 "nbformat": 4,
 "nbformat_minor": 5
}
